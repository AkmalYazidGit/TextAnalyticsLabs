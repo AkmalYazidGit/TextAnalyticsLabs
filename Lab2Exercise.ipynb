{
 "cells": [
  {
   "cell_type": "code",
   "execution_count": 1,
   "id": "b0e35abd-684c-46b5-89e6-f67fafa8069d",
   "metadata": {},
   "outputs": [],
   "source": [
    "import re"
   ]
  },
  {
   "cell_type": "code",
   "execution_count": 3,
   "id": "cc8fe0fb-5ac3-479f-942f-392fb2ad675f",
   "metadata": {},
   "outputs": [
    {
     "name": "stdout",
     "output_type": "stream",
     "text": [
      "Digits found: ['2', '4', '5', '6', '7', '8', '9', '3', '4', '1', '2', '3', '0']\n"
     ]
    }
   ],
   "source": [
    "text = \"Order number: 24567, Tracking ID: 8934A12, Quantity: 30\" \n",
    "# Write your regular expression here \n",
    "pattern = r\"\\d\"\n",
    "matches = re.findall(pattern, text) \n",
    "print(\"Digits found:\", matches) "
   ]
  },
  {
   "cell_type": "code",
   "execution_count": 5,
   "id": "5e609db0-1736-47da-b35a-d610af586949",
   "metadata": {},
   "outputs": [
    {
     "name": "stdout",
     "output_type": "stream",
     "text": [
      "Non-alphanumeric characters: ['!', ' ', \"'\", ' ', ' ', ' ', '?', ' ', ' ', ' ', '@', ' ', '.']\n"
     ]
    }
   ],
   "source": [
    "text = \"Welcome! How's your day going? Call me @ 3pm.\" \n",
    "pattern = r\"\\W\"\n",
    "matches = re.findall(pattern, text) \n",
    "print(\"Non-alphanumeric characters:\", matches)"
   ]
  },
  {
   "cell_type": "code",
   "execution_count": 7,
   "id": "70c10102-9bdf-42d7-b573-c5cf4a09efbf",
   "metadata": {},
   "outputs": [
    {
     "name": "stdout",
     "output_type": "stream",
     "text": [
      "Split text: ['Data Science', ' AI', ' and Machine Learning', ' These fields are growing fast', '']\n"
     ]
    }
   ],
   "source": [
    "text = \"Data Science, AI, and Machine Learning. These fields are growing fast.\" \n",
    "pattern =  r\"[,.]\"\n",
    "split_text = re.split(pattern, text) \n",
    "print(\"Split text:\", split_text) "
   ]
  },
  {
   "cell_type": "code",
   "execution_count": 9,
   "id": "43286639-3288-4d49-8cbb-4e93666a06d7",
   "metadata": {},
   "outputs": [
    {
     "name": "stdout",
     "output_type": "stream",
     "text": [
      "Anonymized text: Contact us at [HIDDEN] or [HIDDEN]\n"
     ]
    }
   ],
   "source": [
    "text = \"Contact us at support@example.com or info@company.org\" \n",
    "pattern = r'support@example.com|info@company.org'\n",
    "new_text = re.sub(pattern, \"[HIDDEN]\", text)\n",
    "print(\"Anonymized text:\", new_text) "
   ]
  },
  {
   "cell_type": "code",
   "execution_count": 11,
   "id": "a5261ffe-53d1-409c-87d3-8e64ca6e3e65",
   "metadata": {},
   "outputs": [
    {
     "name": "stdout",
     "output_type": "stream",
     "text": [
      "Domain types: ['com', 'edu', 'org']\n"
     ]
    }
   ],
   "source": [
    "text = \"Emails: user@gmail.com, admin@university.edu, info@company.org\" \n",
    "pattern = r'@\\w+.(\\w+.\\w+)'\n",
    "matches = re.findall(pattern, text) \n",
    "print(\"Domain types:\", matches)"
   ]
  }
 ],
 "metadata": {
  "kernelspec": {
   "display_name": "Python 3 (ipykernel)",
   "language": "python",
   "name": "python3"
  },
  "language_info": {
   "codemirror_mode": {
    "name": "ipython",
    "version": 3
   },
   "file_extension": ".py",
   "mimetype": "text/x-python",
   "name": "python",
   "nbconvert_exporter": "python",
   "pygments_lexer": "ipython3",
   "version": "3.12.7"
  }
 },
 "nbformat": 4,
 "nbformat_minor": 5
}
